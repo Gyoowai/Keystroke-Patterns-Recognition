{
 "cells": [
  {
   "cell_type": "code",
   "execution_count": 73,
   "metadata": {},
   "outputs": [],
   "source": [
    "# importing all libraries\n",
    "import tkinter as tk\n",
    "from timeit import default_timer as timer\n",
    "import random\n",
    "import string\n",
    "from itertools import permutations \n",
    "from itertools import combinations\n",
    "import numpy as np\n",
    "import pandas as pd\n",
    "from scipy import stats\n",
    "from sklearn.neighbors import KNeighborsClassifier"
   ]
  },
  {
   "cell_type": "code",
   "execution_count": 289,
   "metadata": {},
   "outputs": [],
   "source": [
    "# Generate blank start data\n",
    "speech = \"this is monday or i here o\"\n",
    "speech = speech.lower()\n",
    "\n",
    "char = list(string.ascii_lowercase)\n",
    "column_name = [a+b for a in char for b in char] + ['name']\n",
    "\n",
    "# for i in range(0,len(speech)-1):\n",
    "#     if speech[i:i+2] in combination and speech[i:i+2] not in column_name:\n",
    "#         column_name.append(speech[i:i+2])\n",
    "\n",
    "df = pd.DataFrame(columns=column_name)\n",
    "df.to_csv(\"data.csv\", index=False)\n"
   ]
  },
  {
   "cell_type": "markdown",
   "metadata": {},
   "source": [
    "# GUI for Typing"
   ]
  },
  {
   "cell_type": "code",
   "execution_count": null,
   "metadata": {},
   "outputs": [],
   "source": [
    "char = list(string.printable[:-3])\n",
    "# 0123456789abcdefghijklmnopqrstuvwxyzABCDEFGHIJKLMNOPQRSTUVWXYZ!\"#$%&\\'()*+,-./:;<=>?@[\\\\]^_`{|}~ \\t\\n\n",
    "\n",
    "def make_metric(mem, sentence, name):\n",
    "    Digraph = dict()\n",
    "    for i in char:\n",
    "        for j in char:\n",
    "            Digraph[i+j] = []\n",
    "\n",
    "    for i in range(0,len(mem)-1):\n",
    "        if sentence[i:i+2] in Digraph.keys():\n",
    "            Digraph[sentence[i:i+2]].append(mem[i+1]-mem[i])\n",
    "    \n",
    "    new_dict = {key: [(sum(val)/len(val))] for key,val in Digraph.items() if Digraph[key] != []}\n",
    "    new_dict['name'] = name\n",
    "\n",
    "    return new_dict"
   ]
  },
  {
   "cell_type": "code",
   "execution_count": 189,
   "metadata": {},
   "outputs": [],
   "source": [
    "keyTimestamp = [] # list of timestamp for each key release\n",
    "sentence = \"\"\n",
    "paragraph = \"abcdef\"*100\n",
    "\n",
    "def get_sentence():\n",
    "    global sentence\n",
    "    textVal = (inputText.get('1.0', tk.END))\n",
    "    nameVal = (inputName.get('1.0', tk.END))\n",
    "    sentence = textVal[:-1]\n",
    "    print('Saved')\n",
    "    window.destroy()\n",
    "\n",
    "window = tk.Tk()\n",
    "window.title('Please Type the Following Paragraph')\n",
    "\n",
    "label_1 = tk.Label(window, text = \"The paragraph :\")\n",
    "label_1.pack()\n",
    "\n",
    "message = tk.Text(window, \n",
    "    width = 120, \n",
    "    height= 10,\n",
    "    )\n",
    "message.insert(tk.END, paragraph)\n",
    "message.pack(padx=10, pady=5)\n",
    "\n",
    "label_2 = tk.Label(window, text = \"Typing here :\")\n",
    "label_2.pack()\n",
    "\n",
    "inputText = tk.Text(window, \n",
    "    width = 120, \n",
    "    height = 10,\n",
    "    )\n",
    "inputText.bind('<KeyRelease>', lambda event: keyTimestamp.append(timer()))\n",
    "inputText.pack(padx=10, pady=5)\n",
    "\n",
    "frame = tk.Frame()\n",
    "label_3 = tk.Label(frame, text = \"Enter your full name :\")\n",
    "label_3.pack(side=tk.LEFT)\n",
    "\n",
    "inputName = tk.Text(frame, \n",
    "    width = 50,\n",
    "    height = 1\n",
    "    )\n",
    "inputName.pack(side=tk.LEFT)\n",
    "\n",
    "button = tk.Button(frame, \n",
    "    text = \"DONE\", \n",
    "    command = get_sentence,\n",
    "    width = 5, \n",
    "    bg = 'grey'\n",
    "    )\n",
    "button.pack(side=tk.LEFT)\n",
    "frame.pack(padx=10, pady=5)\n",
    "\n",
    "tk.mainloop()"
   ]
  },
  {
   "cell_type": "code",
   "execution_count": null,
   "metadata": {},
   "outputs": [],
   "source": [
    "#mem,sentence = measure()\n",
    "unknown = make_metric(mem,sentence,'pun')\n",
    "df = pd.read_csv('data.csv')\n",
    "df2 = pd.DataFrame(unknown)\n",
    "df = df.append(df2, ignore_index=True)\n",
    "df.to_csv(\"data.csv\", index=False)\n",
    "df"
   ]
  },
  {
   "cell_type": "markdown",
   "metadata": {},
   "source": [
    "### save to data.csv"
   ]
  },
  {
   "cell_type": "code",
   "execution_count": 256,
   "metadata": {},
   "outputs": [
    {
     "name": "stderr",
     "output_type": "stream",
     "text": [
      "C:\\Users\\pun15\\AppData\\Local\\Temp\\ipykernel_10416\\2102312086.py:3: FutureWarning: The frame.append method is deprecated and will be removed from pandas in a future version. Use pandas.concat instead.\n",
      "  df = df.append(df2, ignore_index=True)\n"
     ]
    },
    {
     "data": {
      "text/html": [
       "<div>\n",
       "<style scoped>\n",
       "    .dataframe tbody tr th:only-of-type {\n",
       "        vertical-align: middle;\n",
       "    }\n",
       "\n",
       "    .dataframe tbody tr th {\n",
       "        vertical-align: top;\n",
       "    }\n",
       "\n",
       "    .dataframe thead th {\n",
       "        text-align: right;\n",
       "    }\n",
       "</style>\n",
       "<table border=\"1\" class=\"dataframe\">\n",
       "  <thead>\n",
       "    <tr style=\"text-align: right;\">\n",
       "      <th></th>\n",
       "      <th>aa</th>\n",
       "      <th>ab</th>\n",
       "      <th>ac</th>\n",
       "      <th>ad</th>\n",
       "      <th>ae</th>\n",
       "      <th>af</th>\n",
       "      <th>ag</th>\n",
       "      <th>ah</th>\n",
       "      <th>ai</th>\n",
       "      <th>aj</th>\n",
       "      <th>...</th>\n",
       "      <th>zr</th>\n",
       "      <th>zs</th>\n",
       "      <th>zt</th>\n",
       "      <th>zu</th>\n",
       "      <th>zv</th>\n",
       "      <th>zw</th>\n",
       "      <th>zx</th>\n",
       "      <th>zy</th>\n",
       "      <th>zz</th>\n",
       "      <th>name</th>\n",
       "    </tr>\n",
       "  </thead>\n",
       "  <tbody>\n",
       "    <tr>\n",
       "      <th>0</th>\n",
       "      <td>NaN</td>\n",
       "      <td>NaN</td>\n",
       "      <td>NaN</td>\n",
       "      <td>NaN</td>\n",
       "      <td>NaN</td>\n",
       "      <td>NaN</td>\n",
       "      <td>0.155915</td>\n",
       "      <td>NaN</td>\n",
       "      <td>0.151917</td>\n",
       "      <td>NaN</td>\n",
       "      <td>...</td>\n",
       "      <td>NaN</td>\n",
       "      <td>NaN</td>\n",
       "      <td>NaN</td>\n",
       "      <td>NaN</td>\n",
       "      <td>NaN</td>\n",
       "      <td>NaN</td>\n",
       "      <td>NaN</td>\n",
       "      <td>NaN</td>\n",
       "      <td>NaN</td>\n",
       "      <td>guy</td>\n",
       "    </tr>\n",
       "  </tbody>\n",
       "</table>\n",
       "<p>1 rows × 677 columns</p>\n",
       "</div>"
      ],
      "text/plain": [
       "    aa   ab   ac   ad   ae   af        ag   ah        ai   aj  ...   zr   zs  \\\n",
       "0  NaN  NaN  NaN  NaN  NaN  NaN  0.155915  NaN  0.151917  NaN  ...  NaN  NaN   \n",
       "\n",
       "    zt   zu   zv   zw   zx   zy   zz name  \n",
       "0  NaN  NaN  NaN  NaN  NaN  NaN  NaN  guy  \n",
       "\n",
       "[1 rows x 677 columns]"
      ]
     },
     "execution_count": 256,
     "metadata": {},
     "output_type": "execute_result"
    }
   ],
   "source": [
    "# df = pd.read_csv('data.csv')\n",
    "# df2 = pd.DataFrame(unknown)\n",
    "# df = df.append(df2, ignore_index=True)\n",
    "# df.to_csv(\"data.csv\", index=False)\n",
    "# df"
   ]
  },
  {
   "cell_type": "markdown",
   "metadata": {},
   "source": [
    "### find knn"
   ]
  },
  {
   "cell_type": "code",
   "execution_count": 287,
   "metadata": {},
   "outputs": [
    {
     "name": "stdout",
     "output_type": "stream",
     "text": [
      "Index(['ag', 'ai', 'al', 'ar', 'co', 'da', 'el', 'es', 'ga', 'in', 'kn', 'lk',\n",
      "       'll', 'lo', 'me', 'my', 'ne', 'om', 'ou', 'rk', 'ss', 'ta', 'to', 'yo',\n",
      "       'name'],\n",
      "      dtype='object')\n",
      "[2.109410804702472, 2.732330860612257, 2.1901512103294523, 2.496362641255959, 2.364881121068384, 2.935465310970651, 4.416069091647145, 4.169127222330693, 2.999115289152878, 2.682235584016941]\n",
      "[0 2 4 3 9]\n"
     ]
    },
    {
     "data": {
      "text/plain": [
       "array(['guy'], dtype='<U3')"
      ]
     },
     "execution_count": 287,
     "metadata": {},
     "output_type": "execute_result"
    }
   ],
   "source": [
    "def knn(x_data, y_data, test_data, k):\n",
    "    result = []\n",
    "    for i in range(len(x_data)):\n",
    "        x_arr = np.array(list(x_data[i].values()))\n",
    "        test_arr = np.array(list(test_data.values()))\n",
    "        result.append(np.linalg.norm(x_arr - test_arr))\n",
    "    argmin_k = np.argsort(result)[:k]\n",
    "    print(result)\n",
    "    print(argmin_k)\n",
    "    return stats.mode([y_data[i] for i in argmin_k])[0]\n",
    "\n",
    "tmp = unknown.copy()\n",
    "\n",
    "df = pd.read_csv('data.csv')\n",
    "df = df.dropna(axis=1)\n",
    "df2 = pd.DataFrame(tmp)\n",
    "df2 = df2.dropna(axis=1)\n",
    "inter_col = df.columns.intersection(df2.columns)\n",
    "print(inter_col)\n",
    "y_data = df.pop('name').tolist()\n",
    "x_data = df.to_dict('records')\n",
    "tmp.pop('name')\n",
    "test_data = tmp\n",
    "k = 5\n",
    "#y_data\n",
    "knn(x_data, y_data, test_data, k)\n"
   ]
  }
 ],
 "metadata": {
  "kernelspec": {
   "display_name": "Python 3.7.0 64-bit",
   "language": "python",
   "name": "python3"
  },
  "language_info": {
   "codemirror_mode": {
    "name": "ipython",
    "version": 3
   },
   "file_extension": ".py",
   "mimetype": "text/x-python",
   "name": "python",
   "nbconvert_exporter": "python",
   "pygments_lexer": "ipython3",
   "version": "3.7.0"
  },
  "orig_nbformat": 4,
  "vscode": {
   "interpreter": {
    "hash": "a23257344542c70b70a498512f46db94a3a7f44d371a6893c689768adca66338"
   }
  }
 },
 "nbformat": 4,
 "nbformat_minor": 2
}
