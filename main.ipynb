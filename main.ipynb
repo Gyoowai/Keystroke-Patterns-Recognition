{
 "cells": [
  {
   "cell_type": "code",
   "execution_count": 6,
   "metadata": {},
   "outputs": [],
   "source": [
    "# importing all libraries\n",
    "from tkinter import *\n",
    "from timeit import default_timer as timer\n",
    "import random\n",
    "import string\n",
    "from itertools import permutations \n",
    "from itertools import combinations\n",
    "import numpy as np\n",
    "import pandas as pd\n",
    "from scipy import stats\n",
    "from sklearn.neighbors import KNeighborsClassifier"
   ]
  },
  {
   "cell_type": "code",
   "execution_count": 289,
   "metadata": {},
   "outputs": [],
   "source": [
    "speech = \"this is monday or i here o\"\n",
    "speech = speech.lower()\n",
    "\n",
    "char = list(string.ascii_lowercase)\n",
    "column_name = [a+b for a in char for b in char] + ['name']\n",
    "\n",
    "# for i in range(0,len(speech)-1):\n",
    "#     if speech[i:i+2] in combination and speech[i:i+2] not in column_name:\n",
    "#         column_name.append(speech[i:i+2])\n",
    "\n",
    "df = pd.DataFrame(columns=column_name)\n",
    "df.to_csv(\"data.csv\", index=False)\n"
   ]
  },
  {
   "cell_type": "code",
   "execution_count": 290,
   "metadata": {},
   "outputs": [],
   "source": [
    "def make_metric(mem, sentence, name):\n",
    "    Digraph = dict()\n",
    "    char = list(string.ascii_lowercase)\n",
    "    for i in char:\n",
    "        for j in char:\n",
    "            Digraph[i+j] = []\n",
    "\n",
    "    for i in range(0,len(mem)-1):\n",
    "        if sentence[i:i+2] in Digraph.keys():\n",
    "            Digraph[sentence[i:i+2]].append(mem[i+1]-mem[i])\n",
    "    \n",
    "    new_dict = {key: [(sum(val)/len(val))] for key,val in Digraph.items() if Digraph[key] != []}\n",
    "    new_dict['name'] = name\n",
    "\n",
    "\n",
    "\n",
    "    return new_dict"
   ]
  },
  {
   "cell_type": "markdown",
   "metadata": {},
   "source": [
    "Life is a mixture of ups and downs and one who has life must have seen various colours of life. Sometimes the colours are vivid and bright and sometimes they are just black and white. Life is a challenge and one who has the courage and strength to face it bravely is the one who goes through it and emerges as a great and successful person in life. Every person who has life is given various opportunities to make his life happy and prosperous and the one who understands this surely succeed in life. People who think that life is easy must know how people who don’t have a home to live and food to eat survive on this planet.\n",
    "\n",
    "Life places us in different situations of sorrow, grief, happiness, defeat, love, hatred, failure, success and much more. So one must realize this fact that life is not a bed of roses, it even has thorns which we need to accept so that we do not get into a state of depression and face life with courage and vigour.\n",
    "\n",
    "There are times when we are happy about certain events in life and celebrate such occasions with great enthusiasm but we should not forget that life will not always give you fruits without sowing seeds from time to time. So, make sure you always make the best possible efforts to gain success in life as without efforts you cannot achieve anything in life.\n",
    "\n",
    "One must accept this bitter truth that good times and bad times never last forever so one should always be ready to face difficulties in life even if he’s on the top of the world. And the one who is suffering from pain and misery should also know that there will be the time when all his sufferings will end and life will offer him new opportunities to succeed. Life is beautiful when you accept every little thing and ignore those that make you suffer. It’s our own perspective that makes our life happy or miserable, so one must have a positive attitude towards life to make it happening and worthy."
   ]
  },
  {
   "cell_type": "markdown",
   "metadata": {},
   "source": [
    "# Start"
   ]
  },
  {
   "cell_type": "code",
   "execution_count": 293,
   "metadata": {},
   "outputs": [],
   "source": [
    "char = list(string.ascii_lowercase)\n",
    "mem = []\n",
    "sentence = ''\n",
    "def input(event):\n",
    "    global mem\n",
    "    inp = (ent.get('1.0', END))\n",
    "    mem.append(timer())\n",
    "    #print(inp)\n",
    "\n",
    "def get_sentence():\n",
    "    global sentence\n",
    "    inp = (ent.get('1.0', END))\n",
    "    sentence = inp[:-1]\n",
    "    print('saved')\n",
    "\n",
    "root = Tk()\n",
    "root.title('this is monday or i here o')\n",
    "root.geometry('425x75')\n",
    "b3 = Button(root, text=\"done\", command=get_sentence, width=12, bg='grey')\n",
    "b3.place(x=250, y=25)\n",
    "\n",
    "ent = Text(root, width = 50, height = 1)\n",
    "ent.bind('<KeyRelease>', input)\n",
    "ent.pack()\n",
    "mainloop()\n"
   ]
  },
  {
   "cell_type": "markdown",
   "metadata": {},
   "source": [
    "#mem,sentence = measure()\n",
    "unknown = make_metric(mem,sentence,'pun')\n",
    "df = pd.read_csv('data.csv')\n",
    "df2 = pd.DataFrame(unknown)\n",
    "df = df.append(df2, ignore_index=True)\n",
    "df.to_csv(\"data.csv\", index=False)\n",
    "df"
   ]
  },
  {
   "cell_type": "markdown",
   "metadata": {},
   "source": [
    "### save to data.csv"
   ]
  },
  {
   "cell_type": "code",
   "execution_count": 256,
   "metadata": {},
   "outputs": [
    {
     "name": "stderr",
     "output_type": "stream",
     "text": [
      "C:\\Users\\pun15\\AppData\\Local\\Temp\\ipykernel_10416\\2102312086.py:3: FutureWarning: The frame.append method is deprecated and will be removed from pandas in a future version. Use pandas.concat instead.\n",
      "  df = df.append(df2, ignore_index=True)\n"
     ]
    },
    {
     "data": {
      "text/html": [
       "<div>\n",
       "<style scoped>\n",
       "    .dataframe tbody tr th:only-of-type {\n",
       "        vertical-align: middle;\n",
       "    }\n",
       "\n",
       "    .dataframe tbody tr th {\n",
       "        vertical-align: top;\n",
       "    }\n",
       "\n",
       "    .dataframe thead th {\n",
       "        text-align: right;\n",
       "    }\n",
       "</style>\n",
       "<table border=\"1\" class=\"dataframe\">\n",
       "  <thead>\n",
       "    <tr style=\"text-align: right;\">\n",
       "      <th></th>\n",
       "      <th>aa</th>\n",
       "      <th>ab</th>\n",
       "      <th>ac</th>\n",
       "      <th>ad</th>\n",
       "      <th>ae</th>\n",
       "      <th>af</th>\n",
       "      <th>ag</th>\n",
       "      <th>ah</th>\n",
       "      <th>ai</th>\n",
       "      <th>aj</th>\n",
       "      <th>...</th>\n",
       "      <th>zr</th>\n",
       "      <th>zs</th>\n",
       "      <th>zt</th>\n",
       "      <th>zu</th>\n",
       "      <th>zv</th>\n",
       "      <th>zw</th>\n",
       "      <th>zx</th>\n",
       "      <th>zy</th>\n",
       "      <th>zz</th>\n",
       "      <th>name</th>\n",
       "    </tr>\n",
       "  </thead>\n",
       "  <tbody>\n",
       "    <tr>\n",
       "      <th>0</th>\n",
       "      <td>NaN</td>\n",
       "      <td>NaN</td>\n",
       "      <td>NaN</td>\n",
       "      <td>NaN</td>\n",
       "      <td>NaN</td>\n",
       "      <td>NaN</td>\n",
       "      <td>0.155915</td>\n",
       "      <td>NaN</td>\n",
       "      <td>0.151917</td>\n",
       "      <td>NaN</td>\n",
       "      <td>...</td>\n",
       "      <td>NaN</td>\n",
       "      <td>NaN</td>\n",
       "      <td>NaN</td>\n",
       "      <td>NaN</td>\n",
       "      <td>NaN</td>\n",
       "      <td>NaN</td>\n",
       "      <td>NaN</td>\n",
       "      <td>NaN</td>\n",
       "      <td>NaN</td>\n",
       "      <td>guy</td>\n",
       "    </tr>\n",
       "  </tbody>\n",
       "</table>\n",
       "<p>1 rows × 677 columns</p>\n",
       "</div>"
      ],
      "text/plain": [
       "    aa   ab   ac   ad   ae   af        ag   ah        ai   aj  ...   zr   zs  \\\n",
       "0  NaN  NaN  NaN  NaN  NaN  NaN  0.155915  NaN  0.151917  NaN  ...  NaN  NaN   \n",
       "\n",
       "    zt   zu   zv   zw   zx   zy   zz name  \n",
       "0  NaN  NaN  NaN  NaN  NaN  NaN  NaN  guy  \n",
       "\n",
       "[1 rows x 677 columns]"
      ]
     },
     "execution_count": 256,
     "metadata": {},
     "output_type": "execute_result"
    }
   ],
   "source": [
    "# df = pd.read_csv('data.csv')\n",
    "# df2 = pd.DataFrame(unknown)\n",
    "# df = df.append(df2, ignore_index=True)\n",
    "# df.to_csv(\"data.csv\", index=False)\n",
    "# df"
   ]
  },
  {
   "cell_type": "markdown",
   "metadata": {},
   "source": [
    "### find knn"
   ]
  },
  {
   "cell_type": "code",
   "execution_count": 287,
   "metadata": {},
   "outputs": [
    {
     "name": "stdout",
     "output_type": "stream",
     "text": [
      "Index(['ag', 'ai', 'al', 'ar', 'co', 'da', 'el', 'es', 'ga', 'in', 'kn', 'lk',\n",
      "       'll', 'lo', 'me', 'my', 'ne', 'om', 'ou', 'rk', 'ss', 'ta', 'to', 'yo',\n",
      "       'name'],\n",
      "      dtype='object')\n",
      "[2.109410804702472, 2.732330860612257, 2.1901512103294523, 2.496362641255959, 2.364881121068384, 2.935465310970651, 4.416069091647145, 4.169127222330693, 2.999115289152878, 2.682235584016941]\n",
      "[0 2 4 3 9]\n"
     ]
    },
    {
     "data": {
      "text/plain": [
       "array(['guy'], dtype='<U3')"
      ]
     },
     "execution_count": 287,
     "metadata": {},
     "output_type": "execute_result"
    }
   ],
   "source": [
    "def knn(x_data, y_data, test_data, k):\n",
    "    result = []\n",
    "    for i in range(len(x_data)):\n",
    "        x_arr = np.array(list(x_data[i].values()))\n",
    "        test_arr = np.array(list(test_data.values()))\n",
    "        result.append(np.linalg.norm(x_arr - test_arr))\n",
    "    argmin_k = np.argsort(result)[:k]\n",
    "    print(result)\n",
    "    print(argmin_k)\n",
    "    return stats.mode([y_data[i] for i in argmin_k])[0]\n",
    "\n",
    "tmp = unknown.copy()\n",
    "\n",
    "df = pd.read_csv('data.csv')\n",
    "df = df.dropna(axis=1)\n",
    "df2 = pd.DataFrame(tmp)\n",
    "df2 = df2.dropna(axis=1)\n",
    "inter_col = df.columns.intersection(df2.columns)\n",
    "print(inter_col)\n",
    "y_data = df.pop('name').tolist()\n",
    "x_data = df.to_dict('records')\n",
    "tmp.pop('name')\n",
    "test_data = tmp\n",
    "k = 5\n",
    "#y_data\n",
    "knn(x_data, y_data, test_data, k)\n"
   ]
  },
  {
   "cell_type": "code",
   "execution_count": null,
   "metadata": {},
   "outputs": [],
   "source": []
  }
 ],
 "metadata": {
  "kernelspec": {
   "display_name": "Python 3.7.9 64-bit (microsoft store)",
   "language": "python",
   "name": "python3"
  },
  "language_info": {
   "codemirror_mode": {
    "name": "ipython",
    "version": 3
   },
   "file_extension": ".py",
   "mimetype": "text/x-python",
   "name": "python",
   "nbconvert_exporter": "python",
   "pygments_lexer": "ipython3",
   "version": "3.7.9"
  },
  "orig_nbformat": 4,
  "vscode": {
   "interpreter": {
    "hash": "822993cc2de8065dd07929654093e8c6598914b15835bcfeccbcac84530d789c"
   }
  }
 },
 "nbformat": 4,
 "nbformat_minor": 2
}
