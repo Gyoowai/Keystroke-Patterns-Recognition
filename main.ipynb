{
 "cells": [
  {
   "cell_type": "code",
   "execution_count": 1,
   "metadata": {},
   "outputs": [],
   "source": [
    "# importing all libraries\n",
    "import tkinter as tk\n",
    "from timeit import default_timer as timer\n",
    "import string\n",
    "import numpy as np\n",
    "import pandas as pd\n",
    "from scipy import stats"
   ]
  },
  {
   "cell_type": "markdown",
   "metadata": {},
   "source": [
    "### find knn"
   ]
  },
  {
   "cell_type": "code",
   "execution_count": 75,
   "metadata": {},
   "outputs": [],
   "source": [
    "import numpy as np\n",
    "import pandas as pd\n",
    "from scipy import stats\n",
    "from sklearn.metrics.pairwise import nan_euclidean_distances\n",
    "\n",
    "def knn(x_data, y_data, test_data, k):\n",
    "    result = nan_euclidean_distances(x_data,[test_data])\n",
    "    argmin_k = np.argsort(result, axis=0)[:k]\n",
    "    print(result)\n",
    "    print(argmin_k)\n",
    "    return stats.mode([y_data[i] for i in argmin_k])[0]"
   ]
  },
  {
   "cell_type": "code",
   "execution_count": 2,
   "metadata": {},
   "outputs": [],
   "source": [
    "import pandas as pd\n",
    "df = pd.read_csv(\"dataset/paragraph.csv\")\n",
    "paragraph = df[\"Paragraph\"].sample(1).values[0]"
   ]
  },
  {
   "cell_type": "code",
   "execution_count": 3,
   "metadata": {},
   "outputs": [],
   "source": [
    "char = list(string.printable[:-3])\n",
    "# 0123456789abcdefghijklmnopqrstuvwxyzABCDEFGHIJKLMNOPQRSTUVWXYZ!\"#$%&\\'()*+,-./:;<=>?@[\\\\]^_`{|}~ \\t\\n\n",
    "keyTimestamp = [] # list of timestamp for each key release\n",
    "\n",
    "def get_sentence():\n",
    "    textVal = (inputText.get('1.0', tk.END))[:-1]\n",
    "    Digraph = dict()\n",
    "    for i in char:\n",
    "        for j in char:\n",
    "            Digraph[i+j] = []\n",
    "    for i in range(0,len(keyTimestamp)-1):\n",
    "        if textVal[i:i+2] in Digraph.keys():\n",
    "            Digraph[textVal[i:i+2]].append(keyTimestamp[i+1]-keyTimestamp[i])\n",
    "    new_dict = {key: (sum(val)/len(val)) for key,val in Digraph.items() if Digraph[key] != []}\n",
    "\n",
    "    train_data = pd.read_csv('dataset/data.csv')\n",
    "    test_data = pd.Series(new_dict)\n",
    "    y_data = train_data.pop('class')\n",
    "    x_data = train_data[test_data.index]\n",
    "    print(knn(x_data, y_data, test_data, k=3))\n",
    "\n",
    "    print('Saved')\n",
    "    window.destroy()\n",
    "\n",
    "window = tk.Tk()\n",
    "window.title('Please Type the Following Paragraph')\n",
    "\n",
    "label_1 = tk.Label(window, text = \"The paragraph :\")\n",
    "label_1.pack()\n",
    "\n",
    "message = tk.Text(window, \n",
    "    width = 120, \n",
    "    height= 15,\n",
    "    )\n",
    "message.insert(tk.END, paragraph)\n",
    "message.pack(padx=10, pady=5)\n",
    "\n",
    "label_2 = tk.Label(window, text = \"Typing here :\")\n",
    "label_2.pack()\n",
    "\n",
    "inputText = tk.Text(window, \n",
    "    width = 120, \n",
    "    height = 15,\n",
    "    )\n",
    "inputText.bind('<KeyRelease>', lambda event: keyTimestamp.append(timer()))\n",
    "inputText.pack(padx=10, pady=5)\n",
    "\n",
    "button = tk.Button(window, \n",
    "    text = \"DONE\", \n",
    "    command = get_sentence,\n",
    "    width = 5, \n",
    "    bg = 'grey'\n",
    "    )\n",
    "button.pack(padx=10, pady=5)\n",
    "\n",
    "tk.mainloop()"
   ]
  }
 ],
 "metadata": {
  "kernelspec": {
   "display_name": "Python 3.7.9 64-bit (microsoft store)",
   "language": "python",
   "name": "python3"
  },
  "language_info": {
   "codemirror_mode": {
    "name": "ipython",
    "version": 3
   },
   "file_extension": ".py",
   "mimetype": "text/x-python",
   "name": "python",
   "nbconvert_exporter": "python",
   "pygments_lexer": "ipython3",
   "version": "3.7.9"
  },
  "orig_nbformat": 4,
  "vscode": {
   "interpreter": {
    "hash": "822993cc2de8065dd07929654093e8c6598914b15835bcfeccbcac84530d789c"
   }
  }
 },
 "nbformat": 4,
 "nbformat_minor": 2
}
